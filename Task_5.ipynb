{
 "cells": [
  {
   "cell_type": "markdown",
   "metadata": {},
   "source": [
    "# Task 5\n",
    "#### ID1: 319206850\n",
    "#### ID2: 203614094"
   ]
  },
  {
   "cell_type": "markdown",
   "metadata": {},
   "source": [
    "## Part 1 - Bayesian Approach\n",
    "#### recap\n",
    "our test question from task 2 was whether the numeric variable $tenure$ is different between the categories that defined by the binary variable $churn$."
   ]
  },
  {
   "cell_type": "code",
   "execution_count": 3,
   "metadata": {},
   "outputs": [],
   "source": [
    "import pandas as pd\n",
    "import numpy as np\n",
    "import random"
   ]
  },
  {
   "cell_type": "markdown",
   "metadata": {},
   "source": [
    "### Question 1 - sampling"
   ]
  },
  {
   "cell_type": "code",
   "execution_count": 4,
   "metadata": {},
   "outputs": [],
   "source": [
    "random.seed(319206850)\n",
    "orig_data = pd.read_csv('telco_data.csv')\n",
    "\n",
    "orig_data.loc[orig_data.Churn == 'Yes', 'Churn'] = 1\n",
    "orig_data.loc[orig_data.Churn == 'No', 'Churn'] = 0\n",
    "\n",
    "obs_data = orig_data.sample(200)\n",
    "past_data = orig_data.loc[~orig_data.index.isin(obs_data.index)].sample(n=1000)\n",
    "\n"
   ]
  },
  {
   "cell_type": "markdown",
   "metadata": {},
   "source": [
    "### Question 2 - Dichotomation"
   ]
  },
  {
   "cell_type": "code",
   "execution_count": 5,
   "metadata": {},
   "outputs": [
    {
     "name": "stdout",
     "output_type": "stream",
     "text": [
      "tau = 29\n",
      "     Churn  Z\n",
      "3534     1  1\n",
      "1622     0  1\n",
      "4347     0  1\n",
      "4203     0  0\n",
      "6419     0  1\n",
      "...    ... ..\n",
      "1068     1  1\n",
      "5279     0  1\n",
      "4033     0  1\n",
      "4080     0  0\n",
      "6776     0  1\n",
      "\n",
      "[200 rows x 2 columns]\n"
     ]
    }
   ],
   "source": [
    "X = obs_data['tenure'].values\n",
    "t = sorted(X)[int(len(X)/2)]\n",
    "print(f\"tau = {t}\")\n",
    "Z = [1 if x > t else 0 for x in X]\n",
    "obs_data['Z'] = Z\n",
    "print(obs_data[['Churn', 'Z']])"
   ]
  },
  {
   "cell_type": "markdown",
   "metadata": {},
   "source": [
    "### Question 3 - Estimation"
   ]
  },
  {
   "cell_type": "markdown",
   "metadata": {},
   "source": [
    "#### 3.a - Bootstrap"
   ]
  },
  {
   "cell_type": "code",
   "execution_count": 6,
   "metadata": {},
   "outputs": [],
   "source": [
    "from math import log2, sqrt\n",
    "z_a = 1.96\n",
    "B = 400"
   ]
  },
  {
   "cell_type": "code",
   "execution_count": 7,
   "metadata": {},
   "outputs": [],
   "source": [
    "def ci_bootstrap_se(X, Y, orig_b, bootstap_b):\n",
    "    se = []\n",
    "    for i in range(len(bootstap_b[0])):\n",
    "        se.append(sqrt((sum([b[i]**2 for b in bootstap_b]))/B - (sum([b[i] for b in bootstap_b])/B)**2))\n",
    "    ci = [[orig_b[i] - z_a*se[i], orig_b[i] + z_a*se[i]] for i in range(len(orig_b))]\n",
    "    print_ci(ci, \"bootstrap normal approx.\")\n",
    "    return ci"
   ]
  },
  {
   "cell_type": "code",
   "execution_count": 8,
   "metadata": {},
   "outputs": [],
   "source": [
    "def calc_y_ci_bootstrap(data, orig_psi):\n",
    "    bootstrap_psi = []\n",
    "    n = len(data.index)\n",
    "    b = 0\n",
    "    while b < B:\n",
    "        indexes = random.choices(list(range(n)), k=n)\n",
    "        sampled_data = data.iloc[indexes]\n",
    "        n0 = len(sampled_data[sampled_data['Churn'] == 0].index)\n",
    "        n1 = len(sampled_data[sampled_data['Churn'] == 1].index)\n",
    "        e_p0 = len(sampled_data[(sampled_data['Z'] == 1) & (sampled_data['Churn'] == 0)].index) / n0  \n",
    "        e_p1 = len(sampled_data[(sampled_data['Z'] == 1) & (sampled_data['Churn'] == 1)].index) / n1\n",
    "        if e_p1 == 0:\n",
    "            continue\n",
    "        bootstrap_psi.append(log2(e_p0 / e_p1))\n",
    "        b += 1\n",
    "    se = sqrt((sum([x**2 for x in bootstrap_psi]))/B - (sum([y for y in bootstrap_psi])/B)**2)\n",
    "    ci = [orig_psi - z_a*se, orig_psi + z_a*se]\n",
    "    return ci"
   ]
  },
  {
   "cell_type": "code",
   "execution_count": 9,
   "metadata": {},
   "outputs": [
    {
     "ename": "KeyError",
     "evalue": "'Z'",
     "output_type": "error",
     "traceback": [
      "\u001b[1;31m---------------------------------------------------------------------------\u001b[0m",
      "\u001b[1;31mKeyError\u001b[0m                                  Traceback (most recent call last)",
      "\u001b[1;32mD:\\Software\\anaconda3\\lib\\site-packages\\pandas\\core\\indexes\\base.py\u001b[0m in \u001b[0;36mget_loc\u001b[1;34m(self, key, method, tolerance)\u001b[0m\n\u001b[0;32m   2645\u001b[0m             \u001b[1;32mtry\u001b[0m\u001b[1;33m:\u001b[0m\u001b[1;33m\u001b[0m\u001b[1;33m\u001b[0m\u001b[0m\n\u001b[1;32m-> 2646\u001b[1;33m                 \u001b[1;32mreturn\u001b[0m \u001b[0mself\u001b[0m\u001b[1;33m.\u001b[0m\u001b[0m_engine\u001b[0m\u001b[1;33m.\u001b[0m\u001b[0mget_loc\u001b[0m\u001b[1;33m(\u001b[0m\u001b[0mkey\u001b[0m\u001b[1;33m)\u001b[0m\u001b[1;33m\u001b[0m\u001b[1;33m\u001b[0m\u001b[0m\n\u001b[0m\u001b[0;32m   2647\u001b[0m             \u001b[1;32mexcept\u001b[0m \u001b[0mKeyError\u001b[0m\u001b[1;33m:\u001b[0m\u001b[1;33m\u001b[0m\u001b[1;33m\u001b[0m\u001b[0m\n",
      "\u001b[1;32mpandas\\_libs\\index.pyx\u001b[0m in \u001b[0;36mpandas._libs.index.IndexEngine.get_loc\u001b[1;34m()\u001b[0m\n",
      "\u001b[1;32mpandas\\_libs\\index.pyx\u001b[0m in \u001b[0;36mpandas._libs.index.IndexEngine.get_loc\u001b[1;34m()\u001b[0m\n",
      "\u001b[1;32mpandas\\_libs\\hashtable_class_helper.pxi\u001b[0m in \u001b[0;36mpandas._libs.hashtable.PyObjectHashTable.get_item\u001b[1;34m()\u001b[0m\n",
      "\u001b[1;32mpandas\\_libs\\hashtable_class_helper.pxi\u001b[0m in \u001b[0;36mpandas._libs.hashtable.PyObjectHashTable.get_item\u001b[1;34m()\u001b[0m\n",
      "\u001b[1;31mKeyError\u001b[0m: 'Z'",
      "\nDuring handling of the above exception, another exception occurred:\n",
      "\u001b[1;31mKeyError\u001b[0m                                  Traceback (most recent call last)",
      "\u001b[1;32m<ipython-input-9-925d3911ec31>\u001b[0m in \u001b[0;36m<module>\u001b[1;34m\u001b[0m\n\u001b[0;32m      1\u001b[0m \u001b[0mobs_data\u001b[0m \u001b[1;33m=\u001b[0m \u001b[0mpd\u001b[0m\u001b[1;33m.\u001b[0m\u001b[0mread_csv\u001b[0m\u001b[1;33m(\u001b[0m\u001b[1;34m'telco_data.csv'\u001b[0m\u001b[1;33m)\u001b[0m\u001b[1;33m\u001b[0m\u001b[1;33m\u001b[0m\u001b[0m\n\u001b[0;32m      2\u001b[0m \u001b[0mN0\u001b[0m\u001b[1;33m,\u001b[0m \u001b[0mN1\u001b[0m \u001b[1;33m=\u001b[0m \u001b[0mlen\u001b[0m\u001b[1;33m(\u001b[0m\u001b[0mobs_data\u001b[0m\u001b[1;33m[\u001b[0m\u001b[0mobs_data\u001b[0m\u001b[1;33m[\u001b[0m\u001b[1;34m'Churn'\u001b[0m\u001b[1;33m]\u001b[0m \u001b[1;33m==\u001b[0m \u001b[1;36m0\u001b[0m\u001b[1;33m]\u001b[0m\u001b[1;33m.\u001b[0m\u001b[0mindex\u001b[0m\u001b[1;33m)\u001b[0m\u001b[1;33m,\u001b[0m \u001b[0mlen\u001b[0m\u001b[1;33m(\u001b[0m\u001b[0mobs_data\u001b[0m\u001b[1;33m[\u001b[0m\u001b[0mobs_data\u001b[0m\u001b[1;33m[\u001b[0m\u001b[1;34m'Churn'\u001b[0m\u001b[1;33m]\u001b[0m \u001b[1;33m==\u001b[0m \u001b[1;36m1\u001b[0m\u001b[1;33m]\u001b[0m\u001b[1;33m.\u001b[0m\u001b[0mindex\u001b[0m\u001b[1;33m)\u001b[0m\u001b[1;33m\u001b[0m\u001b[1;33m\u001b[0m\u001b[0m\n\u001b[1;32m----> 3\u001b[1;33m \u001b[0mS0\u001b[0m \u001b[1;33m=\u001b[0m \u001b[0mlen\u001b[0m\u001b[1;33m(\u001b[0m\u001b[0mobs_data\u001b[0m\u001b[1;33m[\u001b[0m\u001b[1;33m(\u001b[0m\u001b[0mobs_data\u001b[0m\u001b[1;33m[\u001b[0m\u001b[1;34m'Z'\u001b[0m\u001b[1;33m]\u001b[0m \u001b[1;33m==\u001b[0m \u001b[1;36m1\u001b[0m\u001b[1;33m)\u001b[0m \u001b[1;33m&\u001b[0m \u001b[1;33m(\u001b[0m\u001b[0mobs_data\u001b[0m\u001b[1;33m[\u001b[0m\u001b[1;34m'Churn'\u001b[0m\u001b[1;33m]\u001b[0m \u001b[1;33m==\u001b[0m \u001b[1;36m0\u001b[0m\u001b[1;33m)\u001b[0m\u001b[1;33m]\u001b[0m\u001b[1;33m.\u001b[0m\u001b[0mindex\u001b[0m\u001b[1;33m)\u001b[0m\u001b[1;33m\u001b[0m\u001b[1;33m\u001b[0m\u001b[0m\n\u001b[0m\u001b[0;32m      4\u001b[0m \u001b[0mS1\u001b[0m \u001b[1;33m=\u001b[0m \u001b[0mlen\u001b[0m\u001b[1;33m(\u001b[0m\u001b[0mobs_data\u001b[0m\u001b[1;33m[\u001b[0m\u001b[1;33m(\u001b[0m\u001b[0mobs_data\u001b[0m\u001b[1;33m[\u001b[0m\u001b[1;34m'Z'\u001b[0m\u001b[1;33m]\u001b[0m \u001b[1;33m==\u001b[0m \u001b[1;36m1\u001b[0m\u001b[1;33m)\u001b[0m \u001b[1;33m&\u001b[0m \u001b[1;33m(\u001b[0m\u001b[0mobs_data\u001b[0m\u001b[1;33m[\u001b[0m\u001b[1;34m'Churn'\u001b[0m\u001b[1;33m]\u001b[0m \u001b[1;33m==\u001b[0m \u001b[1;36m1\u001b[0m\u001b[1;33m)\u001b[0m\u001b[1;33m]\u001b[0m\u001b[1;33m.\u001b[0m\u001b[0mindex\u001b[0m\u001b[1;33m)\u001b[0m\u001b[1;33m\u001b[0m\u001b[1;33m\u001b[0m\u001b[0m\n\u001b[0;32m      5\u001b[0m \u001b[0me_p0\u001b[0m \u001b[1;33m=\u001b[0m \u001b[0mS0\u001b[0m \u001b[1;33m/\u001b[0m \u001b[0mN0\u001b[0m\u001b[1;33m\u001b[0m\u001b[1;33m\u001b[0m\u001b[0m\n",
      "\u001b[1;32mD:\\Software\\anaconda3\\lib\\site-packages\\pandas\\core\\frame.py\u001b[0m in \u001b[0;36m__getitem__\u001b[1;34m(self, key)\u001b[0m\n\u001b[0;32m   2798\u001b[0m             \u001b[1;32mif\u001b[0m \u001b[0mself\u001b[0m\u001b[1;33m.\u001b[0m\u001b[0mcolumns\u001b[0m\u001b[1;33m.\u001b[0m\u001b[0mnlevels\u001b[0m \u001b[1;33m>\u001b[0m \u001b[1;36m1\u001b[0m\u001b[1;33m:\u001b[0m\u001b[1;33m\u001b[0m\u001b[1;33m\u001b[0m\u001b[0m\n\u001b[0;32m   2799\u001b[0m                 \u001b[1;32mreturn\u001b[0m \u001b[0mself\u001b[0m\u001b[1;33m.\u001b[0m\u001b[0m_getitem_multilevel\u001b[0m\u001b[1;33m(\u001b[0m\u001b[0mkey\u001b[0m\u001b[1;33m)\u001b[0m\u001b[1;33m\u001b[0m\u001b[1;33m\u001b[0m\u001b[0m\n\u001b[1;32m-> 2800\u001b[1;33m             \u001b[0mindexer\u001b[0m \u001b[1;33m=\u001b[0m \u001b[0mself\u001b[0m\u001b[1;33m.\u001b[0m\u001b[0mcolumns\u001b[0m\u001b[1;33m.\u001b[0m\u001b[0mget_loc\u001b[0m\u001b[1;33m(\u001b[0m\u001b[0mkey\u001b[0m\u001b[1;33m)\u001b[0m\u001b[1;33m\u001b[0m\u001b[1;33m\u001b[0m\u001b[0m\n\u001b[0m\u001b[0;32m   2801\u001b[0m             \u001b[1;32mif\u001b[0m \u001b[0mis_integer\u001b[0m\u001b[1;33m(\u001b[0m\u001b[0mindexer\u001b[0m\u001b[1;33m)\u001b[0m\u001b[1;33m:\u001b[0m\u001b[1;33m\u001b[0m\u001b[1;33m\u001b[0m\u001b[0m\n\u001b[0;32m   2802\u001b[0m                 \u001b[0mindexer\u001b[0m \u001b[1;33m=\u001b[0m \u001b[1;33m[\u001b[0m\u001b[0mindexer\u001b[0m\u001b[1;33m]\u001b[0m\u001b[1;33m\u001b[0m\u001b[1;33m\u001b[0m\u001b[0m\n",
      "\u001b[1;32mD:\\Software\\anaconda3\\lib\\site-packages\\pandas\\core\\indexes\\base.py\u001b[0m in \u001b[0;36mget_loc\u001b[1;34m(self, key, method, tolerance)\u001b[0m\n\u001b[0;32m   2646\u001b[0m                 \u001b[1;32mreturn\u001b[0m \u001b[0mself\u001b[0m\u001b[1;33m.\u001b[0m\u001b[0m_engine\u001b[0m\u001b[1;33m.\u001b[0m\u001b[0mget_loc\u001b[0m\u001b[1;33m(\u001b[0m\u001b[0mkey\u001b[0m\u001b[1;33m)\u001b[0m\u001b[1;33m\u001b[0m\u001b[1;33m\u001b[0m\u001b[0m\n\u001b[0;32m   2647\u001b[0m             \u001b[1;32mexcept\u001b[0m \u001b[0mKeyError\u001b[0m\u001b[1;33m:\u001b[0m\u001b[1;33m\u001b[0m\u001b[1;33m\u001b[0m\u001b[0m\n\u001b[1;32m-> 2648\u001b[1;33m                 \u001b[1;32mreturn\u001b[0m \u001b[0mself\u001b[0m\u001b[1;33m.\u001b[0m\u001b[0m_engine\u001b[0m\u001b[1;33m.\u001b[0m\u001b[0mget_loc\u001b[0m\u001b[1;33m(\u001b[0m\u001b[0mself\u001b[0m\u001b[1;33m.\u001b[0m\u001b[0m_maybe_cast_indexer\u001b[0m\u001b[1;33m(\u001b[0m\u001b[0mkey\u001b[0m\u001b[1;33m)\u001b[0m\u001b[1;33m)\u001b[0m\u001b[1;33m\u001b[0m\u001b[1;33m\u001b[0m\u001b[0m\n\u001b[0m\u001b[0;32m   2649\u001b[0m         \u001b[0mindexer\u001b[0m \u001b[1;33m=\u001b[0m \u001b[0mself\u001b[0m\u001b[1;33m.\u001b[0m\u001b[0mget_indexer\u001b[0m\u001b[1;33m(\u001b[0m\u001b[1;33m[\u001b[0m\u001b[0mkey\u001b[0m\u001b[1;33m]\u001b[0m\u001b[1;33m,\u001b[0m \u001b[0mmethod\u001b[0m\u001b[1;33m=\u001b[0m\u001b[0mmethod\u001b[0m\u001b[1;33m,\u001b[0m \u001b[0mtolerance\u001b[0m\u001b[1;33m=\u001b[0m\u001b[0mtolerance\u001b[0m\u001b[1;33m)\u001b[0m\u001b[1;33m\u001b[0m\u001b[1;33m\u001b[0m\u001b[0m\n\u001b[0;32m   2650\u001b[0m         \u001b[1;32mif\u001b[0m \u001b[0mindexer\u001b[0m\u001b[1;33m.\u001b[0m\u001b[0mndim\u001b[0m \u001b[1;33m>\u001b[0m \u001b[1;36m1\u001b[0m \u001b[1;32mor\u001b[0m \u001b[0mindexer\u001b[0m\u001b[1;33m.\u001b[0m\u001b[0msize\u001b[0m \u001b[1;33m>\u001b[0m \u001b[1;36m1\u001b[0m\u001b[1;33m:\u001b[0m\u001b[1;33m\u001b[0m\u001b[1;33m\u001b[0m\u001b[0m\n",
      "\u001b[1;32mpandas\\_libs\\index.pyx\u001b[0m in \u001b[0;36mpandas._libs.index.IndexEngine.get_loc\u001b[1;34m()\u001b[0m\n",
      "\u001b[1;32mpandas\\_libs\\index.pyx\u001b[0m in \u001b[0;36mpandas._libs.index.IndexEngine.get_loc\u001b[1;34m()\u001b[0m\n",
      "\u001b[1;32mpandas\\_libs\\hashtable_class_helper.pxi\u001b[0m in \u001b[0;36mpandas._libs.hashtable.PyObjectHashTable.get_item\u001b[1;34m()\u001b[0m\n",
      "\u001b[1;32mpandas\\_libs\\hashtable_class_helper.pxi\u001b[0m in \u001b[0;36mpandas._libs.hashtable.PyObjectHashTable.get_item\u001b[1;34m()\u001b[0m\n",
      "\u001b[1;31mKeyError\u001b[0m: 'Z'"
     ]
    }
   ],
   "source": [
    "obs_data = pd.read_csv('telco_data.csv')\n",
    "N0, N1 = len(obs_data[obs_data['Churn'] == 0].index), len(obs_data[obs_data['Churn'] == 1].index)\n",
    "S0 = len(obs_data[(obs_data['Z'] == 1) & (obs_data['Churn'] == 0)].index)\n",
    "S1 = len(obs_data[(obs_data['Z'] == 1) & (obs_data['Churn'] == 1)].index)\n",
    "e_p0 = S0 / N0\n",
    "e_p1 = S1 / N1\n",
    "psi = round(log2(e_p0 / e_p1), 3)\n",
    "print(f\"etimate for psi: {psi}\")\n",
    "bootstrap_ci = calc_y_ci_bootstrap(obs_data, psi)\n",
    "print(f\"bootstrap normal approx. ci: {bootstrap_ci}\")"
   ]
  },
  {
   "cell_type": "markdown",
   "metadata": {},
   "source": [
    "#### 3.b - Uniform Prior"
   ]
  },
  {
   "cell_type": "code",
   "execution_count": 10,
   "metadata": {},
   "outputs": [
    {
     "ename": "NameError",
     "evalue": "name 'S0' is not defined",
     "output_type": "error",
     "traceback": [
      "\u001b[1;31m---------------------------------------------------------------------------\u001b[0m",
      "\u001b[1;31mNameError\u001b[0m                                 Traceback (most recent call last)",
      "\u001b[1;32m<ipython-input-10-25b093c6d79f>\u001b[0m in \u001b[0;36m<module>\u001b[1;34m\u001b[0m\n\u001b[1;32m----> 1\u001b[1;33m \u001b[0muni_e_p0\u001b[0m \u001b[1;33m=\u001b[0m \u001b[1;33m(\u001b[0m\u001b[0mS0\u001b[0m \u001b[1;33m+\u001b[0m \u001b[1;36m1\u001b[0m\u001b[1;33m)\u001b[0m \u001b[1;33m/\u001b[0m \u001b[1;33m(\u001b[0m\u001b[0mN0\u001b[0m \u001b[1;33m+\u001b[0m \u001b[1;36m2\u001b[0m\u001b[1;33m)\u001b[0m\u001b[1;33m\u001b[0m\u001b[1;33m\u001b[0m\u001b[0m\n\u001b[0m\u001b[0;32m      2\u001b[0m \u001b[0muni_e_p1\u001b[0m \u001b[1;33m=\u001b[0m \u001b[1;33m(\u001b[0m\u001b[0mS1\u001b[0m \u001b[1;33m+\u001b[0m \u001b[1;36m1\u001b[0m\u001b[1;33m)\u001b[0m \u001b[1;33m/\u001b[0m \u001b[1;33m(\u001b[0m\u001b[0mN1\u001b[0m \u001b[1;33m+\u001b[0m \u001b[1;36m2\u001b[0m\u001b[1;33m)\u001b[0m\u001b[1;33m\u001b[0m\u001b[1;33m\u001b[0m\u001b[0m\n\u001b[0;32m      3\u001b[0m \u001b[0muni_e_psi\u001b[0m \u001b[1;33m=\u001b[0m \u001b[0mlog2\u001b[0m\u001b[1;33m(\u001b[0m\u001b[0muni_e_p0\u001b[0m \u001b[1;33m/\u001b[0m \u001b[0muni_e_p1\u001b[0m\u001b[1;33m)\u001b[0m\u001b[1;33m\u001b[0m\u001b[1;33m\u001b[0m\u001b[0m\n\u001b[0;32m      4\u001b[0m \u001b[0mprint\u001b[0m\u001b[1;33m(\u001b[0m\u001b[1;34mf\"uniform prior estimator for psi: {round(uni_e_psi, 3)}\"\u001b[0m\u001b[1;33m)\u001b[0m\u001b[1;33m\u001b[0m\u001b[1;33m\u001b[0m\u001b[0m\n",
      "\u001b[1;31mNameError\u001b[0m: name 'S0' is not defined"
     ]
    }
   ],
   "source": [
    "uni_e_p0 = (S0 + 1) / (N0 + 2)\n",
    "uni_e_p1 = (S1 + 1) / (N1 + 2)\n",
    "uni_e_psi = log2(uni_e_p0 / uni_e_p1)\n",
    "print(f\"uniform prior estimator for psi: {round(uni_e_psi, 3)}\")"
   ]
  },
  {
   "cell_type": "code",
   "execution_count": null,
   "metadata": {},
   "outputs": [],
   "source": []
  },
  {
   "cell_type": "markdown",
   "metadata": {},
   "source": [
    "## Part 2 - Missing Data"
   ]
  },
  {
   "cell_type": "markdown",
   "metadata": {},
   "source": [
    "### Question 1,2 - Data sampling and Linear Regression"
   ]
  },
  {
   "cell_type": "code",
   "execution_count": 11,
   "metadata": {},
   "outputs": [],
   "source": [
    "def adjust_data(df, cat):\n",
    "    df = df[cat]\n",
    "    df = df[pd.to_numeric(df['TotalCharges'], errors='coerce').notnull()]\n",
    "    df = df.dropna(axis=0)\n",
    "    df = df.reset_index(drop=True)\n",
    "    df = df.sample(1000)\n",
    "    df['gender'].loc[(df['gender'] == 'Male')] = 1\n",
    "    df['gender'].loc[(df['gender'] == 'Female')] = 0\n",
    "    df['TotalCharges'] = [float(x) for x in df['TotalCharges'].values]\n",
    "    df['tenure'] = [float(x) for x in df['tenure'].values]\n",
    "    return df"
   ]
  },
  {
   "cell_type": "code",
   "execution_count": 12,
   "metadata": {},
   "outputs": [],
   "source": [
    "def calc_b(X, Y, b_only=False):\n",
    "    Xt = X.transpose()\n",
    "    XtY = Xt.dot(Y)\n",
    "    XtX = Xt.dot(X)\n",
    "    inv_matrix = np.linalg.pinv(XtX)\n",
    "    b = inv_matrix.dot(XtY)\n",
    "    if b_only:\n",
    "        return b\n",
    "    return b, inv_matrix"
   ]
  },
  {
   "cell_type": "code",
   "execution_count": 13,
   "metadata": {},
   "outputs": [],
   "source": [
    "def get_b_inv(df, b_only=True):\n",
    "    X = df.drop(['TotalCharges'], axis=1)\n",
    "    X.insert(0, 'ones', 1)\n",
    "    X = X.to_numpy(dtype='float')\n",
    "    Y = df['TotalCharges'].to_numpy(dtype='float')\n",
    "    return calc_b(X, Y, b_only)"
   ]
  },
  {
   "cell_type": "code",
   "execution_count": 14,
   "metadata": {},
   "outputs": [],
   "source": [
    "def ci_matrix(b, inv_matrix, n):\n",
    "    ci = []\n",
    "    df_res = n - len(b)\n",
    "    for i in range(len(inv_matrix)):\n",
    "        se = (df_res*inv_matrix[i][i])**0.5\n",
    "        ci.append([b[i] - z_a*se, b[i] + z_a*se])\n",
    "    return ci"
   ]
  },
  {
   "cell_type": "code",
   "execution_count": 45,
   "metadata": {},
   "outputs": [
    {
     "name": "stdout",
     "output_type": "stream",
     "text": [
      "standard linear regression:\n",
      "\testimator for b0 is -257.171\t and the ci is: [-260.983, -253.359]\n",
      "\testimator for b1 is -16.307\t and the ci is: [-20.225, -12.39]\n",
      "\testimator for b2 is 336.614\t and the ci is: [331.564, 341.663]\n",
      "\testimator for b3 is 79.805\t and the ci is: [79.725, 79.885]\n",
      "\n"
     ]
    }
   ],
   "source": [
    "random.seed(319206850)\n",
    "\n",
    "cat = ['gender', 'SeniorCitizen', 'tenure', 'TotalCharges']\n",
    "\n",
    "orig_data = pd.read_csv('telco_data.csv')\n",
    "sampled_seen = adjust_data(orig_data, cat)\n",
    "b, inv_mat = get_b_inv(sampled_seen, b_only=False)\n",
    "b_ci = ci_matrix(b, inv_mat, len(sampled_seen.index))\n",
    "print_b_ci(b, b_ci, \"standard linear regression\")"
   ]
  },
  {
   "cell_type": "markdown",
   "metadata": {},
   "source": [
    "### Question 3 - Erasing"
   ]
  },
  {
   "cell_type": "code",
   "execution_count": 46,
   "metadata": {},
   "outputs": [
    {
     "name": "stdout",
     "output_type": "stream",
     "text": [
      "number of Y erased: 484\n"
     ]
    }
   ],
   "source": [
    "sampled_unseen = sampled_seen.sort_values(by=['TotalCharges'])\n",
    "erased_Y = []\n",
    "for i, y in enumerate(sampled_unseen['TotalCharges'].values):\n",
    "    p_i = 0.1 + (i / 1250)\n",
    "    r = random.random()\n",
    "    if r > p_i:\n",
    "        erased_Y.append(y)\n",
    "    else:\n",
    "        erased_Y.append(np.nan)\n",
    "sampled_unseen['TotalCharges'] = erased_Y\n",
    "print(f\"number of Y erased: {sampled_unseen['TotalCharges'].isna().sum()}\")"
   ]
  },
  {
   "cell_type": "markdown",
   "metadata": {},
   "source": [
    "### Question 4 "
   ]
  },
  {
   "cell_type": "code",
   "execution_count": 47,
   "metadata": {},
   "outputs": [],
   "source": [
    "def print_b_ci(b, ci, title):\n",
    "    print(f\"{title}:\")\n",
    "    for i, e in enumerate(b):\n",
    "        if ci is None:\n",
    "            print(f\"\\testimator for b{i} is {round(e, 3)}\")\n",
    "        else:\n",
    "            print(f\"\\testimator for b{i} is {round(e, 3)}\\t and the ci is: {[round(x, 3) for x in ci[i]]}\")\n",
    "    print()"
   ]
  },
  {
   "cell_type": "markdown",
   "metadata": {},
   "source": [
    "#### 4.a - Linear Regression with Complete Data"
   ]
  },
  {
   "cell_type": "code",
   "execution_count": 48,
   "metadata": {},
   "outputs": [
    {
     "name": "stdout",
     "output_type": "stream",
     "text": [
      "4.a - linear regression with complete data:\n",
      "\testimator for b0 is -175.9\t and the ci is: [-179.355, -172.445]\n",
      "\testimator for b1 is 113.463\t and the ci is: [109.556, 117.37]\n",
      "\testimator for b2 is 416.282\t and the ci is: [411.176, 421.388]\n",
      "\testimator for b3 is 63.536\t and the ci is: [63.444, 63.627]\n",
      "\n"
     ]
    }
   ],
   "source": [
    "data_a = sampled_unseen.dropna()\n",
    "b_a, inv_a = get_b_inv(data_a, b_only=False)\n",
    "ci_a = ci_matrix(b_a, inv_a, len(data_a.index))\n",
    "print_b_ci(b_a, ci_a, \"4.a - linear regression with complete data\")"
   ]
  },
  {
   "cell_type": "markdown",
   "metadata": {},
   "source": [
    "#### 4.b - Regression Imputation"
   ]
  },
  {
   "cell_type": "code",
   "execution_count": 49,
   "metadata": {},
   "outputs": [],
   "source": [
    "def reg_imp(df):\n",
    "    R = [0 if np.isnan(x) else 1 for x in df['TotalCharges'].values]\n",
    "    X = df.drop(['TotalCharges'], axis=1)\n",
    "    X.insert(0, 'ones', 1)\n",
    "    X = X.to_numpy(dtype='float')\n",
    "    Y = df['TotalCharges'].to_numpy(dtype='float')\n",
    "    XtX = np.zeros((len(X[0]), len(X[0])))\n",
    "    XtY = np.zeros((len(X[0]), 1))\n",
    "    for i in range(len(R)):\n",
    "        XtX += R[i] * (X[i].reshape(len(X[i]), 1)).dot(X[i].reshape(1, len(X[i])))\n",
    "        XtY += (X[i].reshape(len(X[i]), 1)) * Y[i] if R[i] == 1 else np.zeros((len(X[0]), 1))\n",
    "    inv = np.linalg.pinv(XtX)\n",
    "    b = inv.dot(XtY).reshape(1, len(X[0]))[0]\n",
    "    return b, inv"
   ]
  },
  {
   "cell_type": "code",
   "execution_count": 50,
   "metadata": {},
   "outputs": [],
   "source": [
    "def compare_CIs(ci_1, ci_2):\n",
    "    print(f\"comparing CIs: {ci_1['name']} vs {ci_2['name']}:\")\n",
    "    ratio = []\n",
    "    for i in range(len(ci_1['data'])):\n",
    "        d1, d2 = ci_1['data'][i][1] - ci_1['data'][i][0], ci_2['data'][i][1] - ci_2['data'][i][0] \n",
    "        ratio.append(d1 / d2)\n",
    "    avg_ratio = sum(ratio) / len(ratio)\n",
    "    if avg_ratio < 1:\n",
    "        smaller = ci_1['name']\n",
    "    else:\n",
    "        smaller = ci_2['name']\n",
    "        avg_ratio = 1 / avg_ratio\n",
    "    print(f\"CIs of {smaller} are {round(100*(1-avg_ratio), 2)}% smaller on average\")"
   ]
  },
  {
   "cell_type": "code",
   "execution_count": 51,
   "metadata": {},
   "outputs": [
    {
     "name": "stdout",
     "output_type": "stream",
     "text": [
      "4.b - regression imputation:\n",
      "\testimator for b0 is -175.9\t and the ci is: [-180.719, -171.081]\n",
      "\testimator for b1 is 113.463\t and the ci is: [108.014, 118.912]\n",
      "\testimator for b2 is 416.282\t and the ci is: [409.161, 423.404]\n",
      "\testimator for b3 is 63.536\t and the ci is: [63.408, 63.664]\n",
      "\n",
      "comparing CIs: regression imputation method vs complete data method:\n",
      "CIs of complete data method are 28.3% smaller on average\n"
     ]
    }
   ],
   "source": [
    "b_b, inv_b = reg_imp(sampled_unseen)\n",
    "ci_b = ci_matrix(b_b, inv_b, len(sampled_unseen.index))\n",
    "print_b_ci(b_b, ci_b, \"4.b - regression imputation\")\n",
    "compare_CIs({'name': 'regression imputation method', 'data': ci_b}, {'name': 'complete data method', 'data': ci_a})"
   ]
  },
  {
   "cell_type": "markdown",
   "metadata": {},
   "source": [
    "As we can see, the estimators are the same for 4.a and 4.b method. however, the CIs of 4.a method were 28.3% smaller than the CIs of 4.b method."
   ]
  },
  {
   "cell_type": "markdown",
   "metadata": {},
   "source": [
    "#### 4.c - Multiple Imputation"
   ]
  },
  {
   "cell_type": "code",
   "execution_count": 52,
   "metadata": {},
   "outputs": [],
   "source": [
    "def multiple_imputation(df, b_b, M):\n",
    "    X = df.drop('TotalCharges', axis= 1)\n",
    "    X.insert(0, 'ones', 1)\n",
    "    X = X.to_numpy(dtype='float')\n",
    "    Y_pred = X.dot(b_b)\n",
    "    Y_orig = df['TotalCharges'].values\n",
    "    Y_full = [Y_pred[i] if np.isnan(Y_orig[i]) else Y_orig[i] for i in range(len(X))]\n",
    "    ms_res = sum([(Y_full[i] - Y_pred[i])**2 for i in range(len(X))]) / (len(X) - len(X[0]))\n",
    "    all_b, all_inv = [], []\n",
    "    for m in range(M):\n",
    "        Y_tmp = []\n",
    "        for i in range(len(X)):\n",
    "            mu = sum([X[i][j] * b_b[j] for j in range(len(b_b))])\n",
    "            stdv = sqrt(ms_res)\n",
    "            y = np.random.normal(mu, stdv) if np.isnan(Y_orig[i]) else Y_orig[i]       \n",
    "            Y_tmp.append(y)\n",
    "        tmp_data = df\n",
    "        tmp_data['TotalCharges'] = Y_tmp\n",
    "        b_tmp, inv = get_b_inv(tmp_data, b_only=False)\n",
    "        all_inv.append(inv)\n",
    "        all_b.append(b_tmp)\n",
    "    return all_b, all_inv"
   ]
  },
  {
   "cell_type": "code",
   "execution_count": 53,
   "metadata": {},
   "outputs": [
    {
     "name": "stdout",
     "output_type": "stream",
     "text": [
      "4.c - multiple imputation:\n",
      "\testimator for b0 is -183.703\n",
      "\testimator for b1 is 115.474\n",
      "\testimator for b2 is 392.986\n",
      "\testimator for b3 is 62.848\n",
      "\n"
     ]
    }
   ],
   "source": [
    "M = 400\n",
    "b_c, inv_c = multiple_imputation(sampled_unseen, b_b, M)\n",
    "b_MI = [sum([b_c[i][j] for i in range(M)]) / M for j in range(len(b_b))]\n",
    "print_b_ci(b_MI, None, \"4.c - multiple imputation\")"
   ]
  },
  {
   "cell_type": "markdown",
   "metadata": {},
   "source": [
    "#### 4.d - rubin's formula"
   ]
  },
  {
   "cell_type": "code",
   "execution_count": 54,
   "metadata": {},
   "outputs": [
    {
     "name": "stdout",
     "output_type": "stream",
     "text": [
      "4.d - MI + CIs of rubin's formula:\n",
      "\testimator for b0 is -183.703\t and the ci is: [-187.515, -179.891]\n",
      "\testimator for b1 is 115.474\t and the ci is: [111.556, 119.391]\n",
      "\testimator for b2 is 392.986\t and the ci is: [387.937, 398.036]\n",
      "\testimator for b3 is 62.848\t and the ci is: [62.769, 62.928]\n",
      "\n"
     ]
    }
   ],
   "source": [
    "var_MI = [(sum(inv_c[i][j][j] for i in range(M)) / M) + \n",
    "          ((M+1) / M*(M-1))*sum([(b_c[i][j] - b_MI[j])**2 for i in range(M)]) for j in range(len(b_MI))]\n",
    "\n",
    "ci_d = ci_matrix(b_MI, np.diag(var_MI), len(sampled_unseen.index))\n",
    "print_b_ci(b_MI, ci_d, \"4.d - MI + CIs of rubin's formula\")"
   ]
  },
  {
   "cell_type": "markdown",
   "metadata": {},
   "source": [
    "#### 4.e - logistic regression"
   ]
  },
  {
   "cell_type": "code",
   "execution_count": 26,
   "metadata": {},
   "outputs": [
    {
     "ename": "ModuleNotFoundError",
     "evalue": "No module named 'statsmodels'",
     "output_type": "error",
     "traceback": [
      "\u001b[1;31m---------------------------------------------------------------------------\u001b[0m",
      "\u001b[1;31mModuleNotFoundError\u001b[0m                       Traceback (most recent call last)",
      "\u001b[1;32m<ipython-input-26-e38cbd490a67>\u001b[0m in \u001b[0;36m<module>\u001b[1;34m\u001b[0m\n\u001b[1;32m----> 1\u001b[1;33m \u001b[1;32mfrom\u001b[0m \u001b[0mstatsmodels\u001b[0m\u001b[1;33m.\u001b[0m\u001b[0mdiscrete\u001b[0m\u001b[1;33m.\u001b[0m\u001b[0mdiscrete_model\u001b[0m \u001b[1;32mimport\u001b[0m \u001b[0mLogit\u001b[0m\u001b[1;33m\u001b[0m\u001b[1;33m\u001b[0m\u001b[0m\n\u001b[0m",
      "\u001b[1;31mModuleNotFoundError\u001b[0m: No module named 'statsmodels'"
     ]
    }
   ],
   "source": [
    "from statsmodels.discrete.discrete_model import Logit"
   ]
  },
  {
   "cell_type": "code",
   "execution_count": null,
   "metadata": {},
   "outputs": [],
   "source": []
  }
 ],
 "metadata": {
  "kernelspec": {
   "display_name": "Python 3",
   "language": "python",
   "name": "python3"
  },
  "language_info": {
   "codemirror_mode": {
    "name": "ipython",
    "version": 3
   },
   "file_extension": ".py",
   "mimetype": "text/x-python",
   "name": "python",
   "nbconvert_exporter": "python",
   "pygments_lexer": "ipython3",
   "version": "3.7.6"
  }
 },
 "nbformat": 4,
 "nbformat_minor": 4
}
